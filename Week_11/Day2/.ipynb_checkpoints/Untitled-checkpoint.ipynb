{
 "cells": [
  {
   "cell_type": "code",
   "execution_count": 1,
   "id": "de86b412-0717-45bf-8377-7bb2f09f9fbe",
   "metadata": {},
   "outputs": [],
   "source": [
    "import numpy as np\n"
   ]
  },
  {
   "cell_type": "code",
   "execution_count": 21,
   "id": "c628c36c-2941-4ceb-b666-e573ac09911d",
   "metadata": {},
   "outputs": [],
   "source": [
    "#Create a null vector of size 10 (★☆☆)\n",
    "a = np.zeros((10))\n"
   ]
  },
  {
   "cell_type": "code",
   "execution_count": 22,
   "id": "9b9de076-c951-4140-ab49-f8607b8d5499",
   "metadata": {},
   "outputs": [
    {
     "data": {
      "text/plain": [
       "array([0., 0., 0., 0., 0., 0., 0., 0., 0., 0.])"
      ]
     },
     "execution_count": 22,
     "metadata": {},
     "output_type": "execute_result"
    }
   ],
   "source": [
    "a"
   ]
  },
  {
   "cell_type": "code",
   "execution_count": 23,
   "id": "aeeb0d3a-7ea0-42e8-9b7d-fbed10683a8d",
   "metadata": {},
   "outputs": [],
   "source": [
    "#3. Create a null vector of size 10 but the fifth value which is 1 (★☆☆)"
   ]
  },
  {
   "cell_type": "code",
   "execution_count": 27,
   "id": "451e52f4-7250-4d7d-be2a-91ab60e2d696",
   "metadata": {},
   "outputs": [],
   "source": [
    "a[4] =1 "
   ]
  },
  {
   "cell_type": "code",
   "execution_count": 28,
   "id": "f62f0702-bde6-4a34-ab5c-16567dc290e7",
   "metadata": {},
   "outputs": [
    {
     "data": {
      "text/plain": [
       "array([0., 0., 0., 0., 1., 0., 0., 0., 0., 0.])"
      ]
     },
     "execution_count": 28,
     "metadata": {},
     "output_type": "execute_result"
    }
   ],
   "source": [
    "a"
   ]
  },
  {
   "cell_type": "code",
   "execution_count": null,
   "id": "783ad3d3-47e2-455f-ad18-1ab4da537dce",
   "metadata": {},
   "outputs": [],
   "source": [
    "#### 4. Create a vector with values ranging from 10 to 49 (★☆☆)\n"
   ]
  },
  {
   "cell_type": "code",
   "execution_count": 35,
   "id": "036a01bd-baa9-441f-8f32-29d90fa01d0f",
   "metadata": {},
   "outputs": [
    {
     "data": {
      "text/plain": [
       "array([10, 11, 12, 13, 14, 15, 16, 17, 18, 19, 20, 21, 22, 23, 24, 25, 26,\n",
       "       27, 28, 29, 30, 31, 32, 33, 34, 35, 36, 37, 38, 39, 40, 41, 42, 43,\n",
       "       44, 45, 46, 47, 48])"
      ]
     },
     "execution_count": 35,
     "metadata": {},
     "output_type": "execute_result"
    }
   ],
   "source": [
    "np.arange(10,49)"
   ]
  },
  {
   "cell_type": "code",
   "execution_count": null,
   "id": "11acdfde-902e-4b79-8dae-302f3e93d4f0",
   "metadata": {},
   "outputs": [],
   "source": [
    " ####5. Create a 3x3 matrix with values ranging from 0 to 8 (★☆☆)\n",
    "\n"
   ]
  },
  {
   "cell_type": "code",
   "execution_count": 41,
   "id": "78f4d5fc-1d0f-431a-a11f-2ebd9dc4155c",
   "metadata": {},
   "outputs": [
    {
     "data": {
      "text/plain": [
       "array([[5, 2, 5],\n",
       "       [2, 1, 3],\n",
       "       [1, 4, 6]])"
      ]
     },
     "execution_count": 41,
     "metadata": {},
     "output_type": "execute_result"
    }
   ],
   "source": [
    "np.random.randint(0,8,(3,3))"
   ]
  },
  {
   "cell_type": "code",
   "execution_count": null,
   "id": "6487739d-91d4-4e5b-be30-bdc0f9e77009",
   "metadata": {},
   "outputs": [],
   "source": [
    "##Find indices of non-zero elements from [1,2,0,0,4,0] (★☆☆)"
   ]
  },
  {
   "cell_type": "code",
   "execution_count": 48,
   "id": "f1b717b4-7414-442e-b6b2-696a60d73673",
   "metadata": {},
   "outputs": [
    {
     "data": {
      "text/plain": [
       "array([ True,  True, False, False,  True, False])"
      ]
     },
     "execution_count": 48,
     "metadata": {},
     "output_type": "execute_result"
    }
   ],
   "source": [
    "list =[1,2,0,0,4,0]\n",
    "b= np.array(list)\n",
    "bool_inx= (b>0)\n",
    "bool_inx"
   ]
  },
  {
   "cell_type": "code",
   "execution_count": 49,
   "id": "360c1c2e-356a-4bfe-8c69-5459820e372b",
   "metadata": {},
   "outputs": [
    {
     "data": {
      "text/plain": [
       "(array([0, 1, 4], dtype=int64),)"
      ]
     },
     "execution_count": 49,
     "metadata": {},
     "output_type": "execute_result"
    }
   ],
   "source": [
    "np.nonzero(b)"
   ]
  },
  {
   "cell_type": "code",
   "execution_count": null,
   "id": "24993b01-3b8c-4f32-8437-9bcf8150003f",
   "metadata": {},
   "outputs": [],
   "source": [
    "##Create a 3x3 identity matrix (★☆☆)"
   ]
  },
  {
   "cell_type": "code",
   "execution_count": null,
   "id": "64793611-a6d9-41e7-bbb9-22f7a83cc9fe",
   "metadata": {},
   "outputs": [],
   "source": [
    "np.eye(3)"
   ]
  },
  {
   "cell_type": "code",
   "execution_count": 53,
   "id": "1c30953e-798f-48db-8d56-afa9df8f3b79",
   "metadata": {},
   "outputs": [
    {
     "data": {
      "text/plain": [
       "array([[1, 0, 0],\n",
       "       [0, 1, 0],\n",
       "       [0, 0, 1]])"
      ]
     },
     "execution_count": 53,
     "metadata": {},
     "output_type": "execute_result"
    }
   ],
   "source": [
    "np.eye(3, dtype=int)"
   ]
  },
  {
   "cell_type": "code",
   "execution_count": null,
   "id": "75c887eb-96bb-4f92-85c6-c90019d77a90",
   "metadata": {},
   "outputs": [],
   "source": [
    "###Create a 3x3x3 array with random values (★☆☆)"
   ]
  },
  {
   "cell_type": "code",
   "execution_count": 60,
   "id": "3027ea8f-90ff-4435-93e6-74d675018e09",
   "metadata": {},
   "outputs": [
    {
     "data": {
      "text/plain": [
       "array([[[0.12607286, 0.71748454, 0.62751758],\n",
       "        [0.72756303, 0.63984829, 0.31801126],\n",
       "        [0.36997219, 0.89936281, 0.30592055]],\n",
       "\n",
       "       [[0.41290128, 0.5267024 , 0.29493321],\n",
       "        [0.49628593, 0.45336195, 0.24021827],\n",
       "        [0.29281526, 0.03581295, 0.58492877]],\n",
       "\n",
       "       [[0.57707182, 0.21127485, 0.98871694],\n",
       "        [0.31375211, 0.31107552, 0.30741732],\n",
       "        [0.79819344, 0.73846307, 0.33277088]]])"
      ]
     },
     "execution_count": 60,
     "metadata": {},
     "output_type": "execute_result"
    }
   ],
   "source": [
    "np.random.random((3,3,3))"
   ]
  },
  {
   "cell_type": "code",
   "execution_count": 61,
   "id": "754976bf-1b9d-4f93-868d-95c238cc5f87",
   "metadata": {},
   "outputs": [],
   "source": [
    "#### 9. Create a 10x10 array with random values and find the minimum and maximum values (★☆☆)\n",
    "\n"
   ]
  },
  {
   "cell_type": "code",
   "execution_count": 67,
   "id": "9c2dcd27-e9da-4546-8a02-6ae425aaec26",
   "metadata": {},
   "outputs": [
    {
     "name": "stdout",
     "output_type": "stream",
     "text": [
      "0.025203222157022753\n",
      "0.9818881679339325\n",
      "[[0.46978688 0.82531605 0.48422907 0.8076096  0.43319951 0.28071272\n",
      "  0.89455183 0.69246016 0.79177242 0.8869144 ]\n",
      " [0.07097539 0.04006674 0.82141776 0.12770087 0.6719906  0.95605125\n",
      "  0.54314447 0.2198058  0.5898567  0.94393373]\n",
      " [0.6059734  0.51044007 0.33825639 0.61429454 0.94946239 0.1169707\n",
      "  0.95948376 0.310404   0.28951568 0.5806569 ]\n",
      " [0.15055152 0.46051449 0.65115008 0.97068059 0.27074502 0.25415587\n",
      "  0.57434277 0.67441733 0.25372826 0.27683282]\n",
      " [0.18633107 0.2197826  0.22496804 0.56097068 0.80416725 0.90752907\n",
      "  0.36800016 0.09885694 0.94559608 0.32474711]\n",
      " [0.25221018 0.95125161 0.26761613 0.63454609 0.8241122  0.69513952\n",
      "  0.22456685 0.88398907 0.81083266 0.22725925]\n",
      " [0.12788164 0.03301365 0.73346676 0.06111012 0.52522645 0.39093678\n",
      "  0.66093662 0.72513743 0.77571569 0.87927126]\n",
      " [0.02520322 0.29601941 0.79960863 0.82332738 0.98188817 0.67865803\n",
      "  0.91605918 0.20492275 0.22109224 0.22708062]\n",
      " [0.77582647 0.81184335 0.61502001 0.51844548 0.19480908 0.57523404\n",
      "  0.87362507 0.18766546 0.25080229 0.03227801]\n",
      " [0.95951127 0.13182922 0.64476053 0.48271283 0.60043529 0.25955273\n",
      "  0.86696499 0.66172106 0.41537534 0.68501115]]\n"
     ]
    }
   ],
   "source": [
    "c= np.random.random((10,10))\n",
    "print(c.min())\n",
    "print(c.max())\n",
    "print (c)\n",
    "\n",
    "#(I wanna find also their locations)"
   ]
  },
  {
   "cell_type": "code",
   "execution_count": 79,
   "id": "b2181191-293c-45dc-a183-ff91a6a10660",
   "metadata": {},
   "outputs": [],
   "source": [
    "bool_inx= (c == c.min())"
   ]
  },
  {
   "cell_type": "code",
   "execution_count": 80,
   "id": "5187fee7-1035-462a-a494-aac7398bdf2b",
   "metadata": {},
   "outputs": [
    {
     "data": {
      "text/plain": [
       "array([[False, False, False, False, False, False, False, False, False,\n",
       "        False],\n",
       "       [False, False, False, False, False, False, False, False, False,\n",
       "        False],\n",
       "       [False, False, False, False, False, False, False, False, False,\n",
       "        False],\n",
       "       [False, False, False, False, False, False, False, False, False,\n",
       "        False],\n",
       "       [False, False, False, False, False, False, False, False, False,\n",
       "        False],\n",
       "       [False, False, False, False, False, False, False, False, False,\n",
       "        False],\n",
       "       [False, False, False, False, False, False, False, False, False,\n",
       "        False],\n",
       "       [ True, False, False, False, False, False, False, False, False,\n",
       "        False],\n",
       "       [False, False, False, False, False, False, False, False, False,\n",
       "        False],\n",
       "       [False, False, False, False, False, False, False, False, False,\n",
       "        False]])"
      ]
     },
     "execution_count": 80,
     "metadata": {},
     "output_type": "execute_result"
    }
   ],
   "source": [
    "bool_inx"
   ]
  },
  {
   "cell_type": "code",
   "execution_count": 81,
   "id": "3417bb0f-ee59-4f64-9deb-378ac24819da",
   "metadata": {},
   "outputs": [
    {
     "data": {
      "text/plain": [
       "(array([7], dtype=int64), array([0], dtype=int64))"
      ]
     },
     "execution_count": 81,
     "metadata": {},
     "output_type": "execute_result"
    }
   ],
   "source": [
    "np.where(bool_inx)"
   ]
  },
  {
   "cell_type": "code",
   "execution_count": 84,
   "id": "c46ea683-072f-4785-bec8-d2c24ae3bd9e",
   "metadata": {},
   "outputs": [],
   "source": [
    "#### 10. Create a random vector of size 30 and find the mean value (★☆☆)\n",
    "#`hint: mean`''"
   ]
  },
  {
   "cell_type": "code",
   "execution_count": 83,
   "id": "2dabdb41-c75b-4d5b-8865-f554705c929d",
   "metadata": {},
   "outputs": [],
   "source": [
    "array_to_calculate_mean = np.random.random((30))"
   ]
  },
  {
   "cell_type": "code",
   "execution_count": 85,
   "id": "eab301f5-f6b5-48f4-902c-142df6636850",
   "metadata": {},
   "outputs": [
    {
     "data": {
      "text/plain": [
       "0.5050284232684111"
      ]
     },
     "execution_count": 85,
     "metadata": {},
     "output_type": "execute_result"
    }
   ],
   "source": [
    "array_to_calculate_mean.mean()"
   ]
  },
  {
   "cell_type": "code",
   "execution_count": 86,
   "id": "efdffb37-be70-42f5-88ef-71192ba30c25",
   "metadata": {},
   "outputs": [],
   "source": [
    "\n",
    "#### 11. Create a 5x5 matrix with values 1,2,3,4 just below the diagonal (★☆☆)\n",
    "#`hint: np.diag`\n"
   ]
  },
  {
   "cell_type": "code",
   "execution_count": 117,
   "id": "683e78c4-ff84-4110-8f8c-3ae23ec741b6",
   "metadata": {},
   "outputs": [],
   "source": [
    "x = np.ones((5,5))\n",
    "diegonal = np.array((1,2,3,4 ))\n",
    "\n"
   ]
  },
  {
   "cell_type": "code",
   "execution_count": 118,
   "id": "e70891d9-3902-41ab-b173-1ccc743d0477",
   "metadata": {},
   "outputs": [
    {
     "data": {
      "text/plain": [
       "array([[0, 0, 0, 0, 0],\n",
       "       [1, 0, 0, 0, 0],\n",
       "       [0, 2, 0, 0, 0],\n",
       "       [0, 0, 3, 0, 0],\n",
       "       [0, 0, 0, 4, 0]])"
      ]
     },
     "execution_count": 118,
     "metadata": {},
     "output_type": "execute_result"
    }
   ],
   "source": [
    "np.diag(diegonal, k=-1) "
   ]
  },
  {
   "cell_type": "code",
   "execution_count": null,
   "id": "d2c0ed8c-35b2-4a44-b3d0-2afddfda432e",
   "metadata": {},
   "outputs": [],
   "source": [
    "### Normalize a 5x5 random matrix (★☆☆)\n",
    "##`hint: (x -mean)/std"
   ]
  },
  {
   "cell_type": "code",
   "execution_count": 120,
   "id": "3d40e2d7-006c-49af-9ea7-3f3bfcdbef7c",
   "metadata": {},
   "outputs": [],
   "source": [
    "matrix_to_normalize = np.random.random((5,5))"
   ]
  },
  {
   "cell_type": "code",
   "execution_count": 121,
   "id": "1499c4df-5c29-41b9-b645-07f34c8f0015",
   "metadata": {},
   "outputs": [
    {
     "data": {
      "text/plain": [
       "array([[0.00537155, 0.00242618, 0.40700483, 0.32661556, 0.67382699],\n",
       "       [0.0365693 , 0.32216751, 0.77737707, 0.79795058, 0.12880405],\n",
       "       [0.86743192, 0.20022927, 0.02998006, 0.23268759, 0.41053326],\n",
       "       [0.21205943, 0.50216753, 0.85929878, 0.19474334, 0.2158565 ],\n",
       "       [0.02698633, 0.82694883, 0.63211744, 0.2411048 , 0.59121869]])"
      ]
     },
     "execution_count": 121,
     "metadata": {},
     "output_type": "execute_result"
    }
   ],
   "source": [
    "matrix_to_normalize"
   ]
  },
  {
   "cell_type": "code",
   "execution_count": 124,
   "id": "ab073d07-67ba-46b1-94a8-3f8c7dd9baed",
   "metadata": {},
   "outputs": [],
   "source": [
    "mean= matrix_to_normalize.mean()\n",
    "std =matrix_to_normalize.std()"
   ]
  },
  {
   "cell_type": "code",
   "execution_count": 126,
   "id": "990b3dd9-df9b-4365-a271-9e9be169220b",
   "metadata": {},
   "outputs": [
    {
     "data": {
      "text/plain": [
       "array([[-1.29840001, -1.30858479,  0.09040946, -0.18756897,  1.01305492],\n",
       "       [-1.19052115, -0.20294988,  1.37112121,  1.44226242, -0.87158221],\n",
       "       [ 1.68252226, -0.62460063, -1.21330613, -0.51236288,  0.10261042],\n",
       "       [-0.58369307,  0.41947295,  1.65439862, -0.64357047, -0.57056318],\n",
       "       [-1.22365815,  1.5425356 ,  0.8688273 , -0.48325698,  0.72740334]])"
      ]
     },
     "execution_count": 126,
     "metadata": {},
     "output_type": "execute_result"
    }
   ],
   "source": [
    "(matrix_to_normalize -mean)/std"
   ]
  },
  {
   "cell_type": "code",
   "execution_count": 127,
   "id": "210e6d1c-eee0-4bdd-9f64-d92989f61364",
   "metadata": {},
   "outputs": [],
   "source": [
    "### How to find common values between two arrays? (★☆☆)\n",
    "##hint: np.intersect1d`"
   ]
  },
  {
   "cell_type": "code",
   "execution_count": 129,
   "id": "06ff6a95-1030-421e-9e7c-57456169d7d7",
   "metadata": {},
   "outputs": [
    {
     "data": {
      "text/plain": [
       "array([20, 21, 22, 23, 24, 25, 26, 27, 28, 29])"
      ]
     },
     "execution_count": 129,
     "metadata": {},
     "output_type": "execute_result"
    }
   ],
   "source": [
    "first = np.arange(10,30)\n",
    "second = np.arange(20,40)\n",
    "np.intersect1d(first, second)"
   ]
  },
  {
   "cell_type": "code",
   "execution_count": 132,
   "id": "5ea90ab9-9acd-4515-90c6-2384b4d064dc",
   "metadata": {},
   "outputs": [],
   "source": [
    "\n",
    "#14. Create a random vector of size 10 and sort it (★★☆)\n",
    "#hint: sort`\n"
   ]
  },
  {
   "cell_type": "code",
   "execution_count": 136,
   "id": "076f87b1-b56f-46b5-8d99-34d38108caf7",
   "metadata": {},
   "outputs": [],
   "source": [
    "array_to_sort = np.random.random(10)"
   ]
  },
  {
   "cell_type": "code",
   "execution_count": 143,
   "id": "908eda8a-3a72-4474-96d8-e7452edfaa6c",
   "metadata": {},
   "outputs": [
    {
     "data": {
      "text/plain": [
       "array([0.10298668, 0.21056787, 0.21064526, 0.26718441, 0.42547546,\n",
       "       0.43145896, 0.57469017, 0.66125813, 0.78068998, 0.94593046])"
      ]
     },
     "execution_count": 143,
     "metadata": {},
     "output_type": "execute_result"
    }
   ],
   "source": [
    "np.sort(array_to_sort)"
   ]
  },
  {
   "cell_type": "code",
   "execution_count": 144,
   "id": "6b9d8da2-45de-45ee-8bc5-23a47c51fd79",
   "metadata": {},
   "outputs": [],
   "source": [
    "#5. Create random vector of size 10 and replace the maximum value by 0 (★★☆)\n",
    "#hint: argmax`"
   ]
  },
  {
   "cell_type": "code",
   "execution_count": 149,
   "id": "dda1060c-d452-4687-84b9-04f370de719c",
   "metadata": {},
   "outputs": [],
   "source": [
    "replacing_with_max = np.random.random((10))"
   ]
  },
  {
   "cell_type": "code",
   "execution_count": 202,
   "id": "3790a1ac-ee31-4f55-a3dc-f9ee60c1a8d7",
   "metadata": {},
   "outputs": [
    {
     "data": {
      "text/plain": [
       "0.9847568281506434"
      ]
     },
     "execution_count": 202,
     "metadata": {},
     "output_type": "execute_result"
    }
   ],
   "source": [
    "replacing_with_max.max()"
   ]
  },
  {
   "cell_type": "code",
   "execution_count": 204,
   "id": "2af21981-1a1d-4d6d-8450-54d7ec98af6e",
   "metadata": {},
   "outputs": [],
   "source": [
    "replacing_with_max[replacing_with_max == replacing_with_max.max()] = 0"
   ]
  },
  {
   "cell_type": "code",
   "execution_count": 205,
   "id": "c52c7c89-19e7-4768-b600-eb92dfb52b56",
   "metadata": {},
   "outputs": [
    {
     "data": {
      "text/plain": [
       "array([0.30667309, 0.08180202, 0.        , 0.40957623, 0.04479206,\n",
       "       0.19129846, 0.66024571, 0.25081625, 0.46886711, 0.86758364])"
      ]
     },
     "execution_count": 205,
     "metadata": {},
     "output_type": "execute_result"
    }
   ],
   "source": [
    "replacing_with_max"
   ]
  },
  {
   "cell_type": "code",
   "execution_count": null,
   "id": "3acc1a1e-f05b-43d6-b6ff-ab4f7685b820",
   "metadata": {},
   "outputs": [],
   "source": [
    "### 16. Subtract the mean of each row of a matrix (★★☆)\n",
    "`###hint: mean(axis=,keepdims=)`"
   ]
  },
  {
   "cell_type": "code",
   "execution_count": 211,
   "id": "101fa4fd-cfcb-4a5d-84c1-dae95ffc6884",
   "metadata": {},
   "outputs": [],
   "source": [
    "matrix_4 = np.random.random((5,5))\n",
    "\n"
   ]
  },
  {
   "cell_type": "code",
   "execution_count": 216,
   "id": "ac37c11b-f68c-45f8-8b76-eb914978dc1b",
   "metadata": {},
   "outputs": [
    {
     "data": {
      "text/plain": [
       "array([0.58906392, 0.47032695, 0.43358192, 0.44413626, 0.34490281])"
      ]
     },
     "execution_count": 216,
     "metadata": {},
     "output_type": "execute_result"
    }
   ],
   "source": [
    "np.mean(matrix_4, axis= 0 )"
   ]
  },
  {
   "cell_type": "code",
   "execution_count": null,
   "id": "1b6f48d7-e0b8-45f5-872e-d8bc2eaa6c89",
   "metadata": {},
   "outputs": [],
   "source": [
    "#### 17. How to get the n largest values of an array (★★★)\n",
    "#`Z = np.arange(10000)\n",
    "#.random.shuffle(Z)\n",
    "#n = 5\n",
    "#hint: np.argsort | np.argpartition`"
   ]
  },
  {
   "cell_type": "code",
   "execution_count": 231,
   "id": "955eb504-8b13-49ec-a17a-73e4ef240cf4",
   "metadata": {},
   "outputs": [],
   "source": [
    "Z = np.arange(10000)\n"
   ]
  },
  {
   "cell_type": "code",
   "execution_count": 232,
   "id": "4feac0b8-065c-404d-9804-287eade51405",
   "metadata": {},
   "outputs": [
    {
     "data": {
      "text/plain": [
       "array([   0,    1,    2, ..., 9997, 9998, 9999])"
      ]
     },
     "execution_count": 232,
     "metadata": {},
     "output_type": "execute_result"
    }
   ],
   "source": [
    "Z"
   ]
  },
  {
   "cell_type": "code",
   "execution_count": 233,
   "id": "758d3c32-4b56-4666-802d-00c8c55a6b79",
   "metadata": {},
   "outputs": [],
   "source": [
    "np.random.shuffle(Z)\n"
   ]
  },
  {
   "cell_type": "code",
   "execution_count": 234,
   "id": "9243dc86-e335-4d41-b553-d38a564b5668",
   "metadata": {},
   "outputs": [
    {
     "data": {
      "text/plain": [
       "array([6280, 3542, 2644, ..., 1543, 2754, 4398])"
      ]
     },
     "execution_count": 234,
     "metadata": {},
     "output_type": "execute_result"
    }
   ],
   "source": [
    "Z"
   ]
  },
  {
   "cell_type": "code",
   "execution_count": 237,
   "id": "3203f0c1-2081-4b7d-ad0f-b62d1e86383f",
   "metadata": {},
   "outputs": [
    {
     "data": {
      "text/plain": [
       "4"
      ]
     },
     "execution_count": 237,
     "metadata": {},
     "output_type": "execute_result"
    }
   ],
   "source": [
    "\n",
    "name= np.argsort(Z)\n",
    "name[4]\n",
    "Z[9261]"
   ]
  },
  {
   "cell_type": "code",
   "execution_count": 229,
   "id": "cc6cf10f-84e1-4750-8310-db443589426e",
   "metadata": {},
   "outputs": [
    {
     "name": "stdout",
     "output_type": "stream",
     "text": [
      "Help on _ArrayFunctionDispatcher in module numpy:\n",
      "\n",
      "argsort(a, axis=-1, kind=None, order=None)\n",
      "    Returns the indices that would sort an array.\n",
      "    \n",
      "    Perform an indirect sort along the given axis using the algorithm specified\n",
      "    by the `kind` keyword. It returns an array of indices of the same shape as\n",
      "    `a` that index data along the given axis in sorted order.\n",
      "    \n",
      "    Parameters\n",
      "    ----------\n",
      "    a : array_like\n",
      "        Array to sort.\n",
      "    axis : int or None, optional\n",
      "        Axis along which to sort.  The default is -1 (the last axis). If None,\n",
      "        the flattened array is used.\n",
      "    kind : {'quicksort', 'mergesort', 'heapsort', 'stable'}, optional\n",
      "        Sorting algorithm. The default is 'quicksort'. Note that both 'stable'\n",
      "        and 'mergesort' use timsort under the covers and, in general, the\n",
      "        actual implementation will vary with data type. The 'mergesort' option\n",
      "        is retained for backwards compatibility.\n",
      "    \n",
      "        .. versionchanged:: 1.15.0.\n",
      "           The 'stable' option was added.\n",
      "    order : str or list of str, optional\n",
      "        When `a` is an array with fields defined, this argument specifies\n",
      "        which fields to compare first, second, etc.  A single field can\n",
      "        be specified as a string, and not all fields need be specified,\n",
      "        but unspecified fields will still be used, in the order in which\n",
      "        they come up in the dtype, to break ties.\n",
      "    \n",
      "    Returns\n",
      "    -------\n",
      "    index_array : ndarray, int\n",
      "        Array of indices that sort `a` along the specified `axis`.\n",
      "        If `a` is one-dimensional, ``a[index_array]`` yields a sorted `a`.\n",
      "        More generally, ``np.take_along_axis(a, index_array, axis=axis)``\n",
      "        always yields the sorted `a`, irrespective of dimensionality.\n",
      "    \n",
      "    See Also\n",
      "    --------\n",
      "    sort : Describes sorting algorithms used.\n",
      "    lexsort : Indirect stable sort with multiple keys.\n",
      "    ndarray.sort : Inplace sort.\n",
      "    argpartition : Indirect partial sort.\n",
      "    take_along_axis : Apply ``index_array`` from argsort\n",
      "                      to an array as if by calling sort.\n",
      "    \n",
      "    Notes\n",
      "    -----\n",
      "    See `sort` for notes on the different sorting algorithms.\n",
      "    \n",
      "    As of NumPy 1.4.0 `argsort` works with real/complex arrays containing\n",
      "    nan values. The enhanced sort order is documented in `sort`.\n",
      "    \n",
      "    Examples\n",
      "    --------\n",
      "    One dimensional array:\n",
      "    \n",
      "    >>> x = np.array([3, 1, 2])\n",
      "    >>> np.argsort(x)\n",
      "    array([1, 2, 0])\n",
      "    \n",
      "    Two-dimensional array:\n",
      "    \n",
      "    >>> x = np.array([[0, 3], [2, 2]])\n",
      "    >>> x\n",
      "    array([[0, 3],\n",
      "           [2, 2]])\n",
      "    \n",
      "    >>> ind = np.argsort(x, axis=0)  # sorts along first axis (down)\n",
      "    >>> ind\n",
      "    array([[0, 1],\n",
      "           [1, 0]])\n",
      "    >>> np.take_along_axis(x, ind, axis=0)  # same as np.sort(x, axis=0)\n",
      "    array([[0, 2],\n",
      "           [2, 3]])\n",
      "    \n",
      "    >>> ind = np.argsort(x, axis=1)  # sorts along last axis (across)\n",
      "    >>> ind\n",
      "    array([[0, 1],\n",
      "           [0, 1]])\n",
      "    >>> np.take_along_axis(x, ind, axis=1)  # same as np.sort(x, axis=1)\n",
      "    array([[0, 3],\n",
      "           [2, 2]])\n",
      "    \n",
      "    Indices of the sorted elements of a N-dimensional array:\n",
      "    \n",
      "    >>> ind = np.unravel_index(np.argsort(x, axis=None), x.shape)\n",
      "    >>> ind\n",
      "    (array([0, 1, 1, 0]), array([0, 0, 1, 1]))\n",
      "    >>> x[ind]  # same as np.sort(x, axis=None)\n",
      "    array([0, 2, 2, 3])\n",
      "    \n",
      "    Sorting with keys:\n",
      "    \n",
      "    >>> x = np.array([(1, 0), (0, 1)], dtype=[('x', '<i4'), ('y', '<i4')])\n",
      "    >>> x\n",
      "    array([(1, 0), (0, 1)],\n",
      "          dtype=[('x', '<i4'), ('y', '<i4')])\n",
      "    \n",
      "    >>> np.argsort(x, order=('x','y'))\n",
      "    array([1, 0])\n",
      "    \n",
      "    >>> np.argsort(x, order=('y','x'))\n",
      "    array([0, 1])\n",
      "\n"
     ]
    }
   ],
   "source": [
    "help(np.argsort)"
   ]
  },
  {
   "cell_type": "code",
   "execution_count": null,
   "id": "569d4d8a-c806-4912-8f0d-5d6a6b339e4f",
   "metadata": {},
   "outputs": [],
   "source": []
  },
  {
   "cell_type": "code",
   "execution_count": null,
   "id": "dbdce817-252c-4637-bb3a-9888caed9bc5",
   "metadata": {},
   "outputs": [],
   "source": []
  },
  {
   "cell_type": "code",
   "execution_count": null,
   "id": "102eaf4c-1cb9-4b51-9928-b704378a7a86",
   "metadata": {},
   "outputs": [],
   "source": []
  },
  {
   "cell_type": "code",
   "execution_count": null,
   "id": "ede78b77-8aa2-429f-9b2b-380709fdf40e",
   "metadata": {},
   "outputs": [],
   "source": []
  },
  {
   "cell_type": "code",
   "execution_count": null,
   "id": "f3c5c487-0bbc-4e98-8697-b05516fc44c9",
   "metadata": {},
   "outputs": [],
   "source": []
  },
  {
   "cell_type": "code",
   "execution_count": null,
   "id": "8b99d84d-2e0e-4f09-a50c-8a1366307999",
   "metadata": {},
   "outputs": [],
   "source": []
  },
  {
   "cell_type": "code",
   "execution_count": null,
   "id": "eb5a4518-7099-4c50-a5e1-57dbf409b91c",
   "metadata": {},
   "outputs": [],
   "source": []
  },
  {
   "cell_type": "code",
   "execution_count": 220,
   "id": "a6972365-59cd-4770-8544-62a0ad4994e0",
   "metadata": {},
   "outputs": [
    {
     "name": "stdout",
     "output_type": "stream",
     "text": [
      "Help on _ArrayFunctionDispatcher in module numpy:\n",
      "\n",
      "argsort(a, axis=-1, kind=None, order=None)\n",
      "    Returns the indices that would sort an array.\n",
      "    \n",
      "    Perform an indirect sort along the given axis using the algorithm specified\n",
      "    by the `kind` keyword. It returns an array of indices of the same shape as\n",
      "    `a` that index data along the given axis in sorted order.\n",
      "    \n",
      "    Parameters\n",
      "    ----------\n",
      "    a : array_like\n",
      "        Array to sort.\n",
      "    axis : int or None, optional\n",
      "        Axis along which to sort.  The default is -1 (the last axis). If None,\n",
      "        the flattened array is used.\n",
      "    kind : {'quicksort', 'mergesort', 'heapsort', 'stable'}, optional\n",
      "        Sorting algorithm. The default is 'quicksort'. Note that both 'stable'\n",
      "        and 'mergesort' use timsort under the covers and, in general, the\n",
      "        actual implementation will vary with data type. The 'mergesort' option\n",
      "        is retained for backwards compatibility.\n",
      "    \n",
      "        .. versionchanged:: 1.15.0.\n",
      "           The 'stable' option was added.\n",
      "    order : str or list of str, optional\n",
      "        When `a` is an array with fields defined, this argument specifies\n",
      "        which fields to compare first, second, etc.  A single field can\n",
      "        be specified as a string, and not all fields need be specified,\n",
      "        but unspecified fields will still be used, in the order in which\n",
      "        they come up in the dtype, to break ties.\n",
      "    \n",
      "    Returns\n",
      "    -------\n",
      "    index_array : ndarray, int\n",
      "        Array of indices that sort `a` along the specified `axis`.\n",
      "        If `a` is one-dimensional, ``a[index_array]`` yields a sorted `a`.\n",
      "        More generally, ``np.take_along_axis(a, index_array, axis=axis)``\n",
      "        always yields the sorted `a`, irrespective of dimensionality.\n",
      "    \n",
      "    See Also\n",
      "    --------\n",
      "    sort : Describes sorting algorithms used.\n",
      "    lexsort : Indirect stable sort with multiple keys.\n",
      "    ndarray.sort : Inplace sort.\n",
      "    argpartition : Indirect partial sort.\n",
      "    take_along_axis : Apply ``index_array`` from argsort\n",
      "                      to an array as if by calling sort.\n",
      "    \n",
      "    Notes\n",
      "    -----\n",
      "    See `sort` for notes on the different sorting algorithms.\n",
      "    \n",
      "    As of NumPy 1.4.0 `argsort` works with real/complex arrays containing\n",
      "    nan values. The enhanced sort order is documented in `sort`.\n",
      "    \n",
      "    Examples\n",
      "    --------\n",
      "    One dimensional array:\n",
      "    \n",
      "    >>> x = np.array([3, 1, 2])\n",
      "    >>> np.argsort(x)\n",
      "    array([1, 2, 0])\n",
      "    \n",
      "    Two-dimensional array:\n",
      "    \n",
      "    >>> x = np.array([[0, 3], [2, 2]])\n",
      "    >>> x\n",
      "    array([[0, 3],\n",
      "           [2, 2]])\n",
      "    \n",
      "    >>> ind = np.argsort(x, axis=0)  # sorts along first axis (down)\n",
      "    >>> ind\n",
      "    array([[0, 1],\n",
      "           [1, 0]])\n",
      "    >>> np.take_along_axis(x, ind, axis=0)  # same as np.sort(x, axis=0)\n",
      "    array([[0, 2],\n",
      "           [2, 3]])\n",
      "    \n",
      "    >>> ind = np.argsort(x, axis=1)  # sorts along last axis (across)\n",
      "    >>> ind\n",
      "    array([[0, 1],\n",
      "           [0, 1]])\n",
      "    >>> np.take_along_axis(x, ind, axis=1)  # same as np.sort(x, axis=1)\n",
      "    array([[0, 3],\n",
      "           [2, 2]])\n",
      "    \n",
      "    Indices of the sorted elements of a N-dimensional array:\n",
      "    \n",
      "    >>> ind = np.unravel_index(np.argsort(x, axis=None), x.shape)\n",
      "    >>> ind\n",
      "    (array([0, 1, 1, 0]), array([0, 0, 1, 1]))\n",
      "    >>> x[ind]  # same as np.sort(x, axis=None)\n",
      "    array([0, 2, 2, 3])\n",
      "    \n",
      "    Sorting with keys:\n",
      "    \n",
      "    >>> x = np.array([(1, 0), (0, 1)], dtype=[('x', '<i4'), ('y', '<i4')])\n",
      "    >>> x\n",
      "    array([(1, 0), (0, 1)],\n",
      "          dtype=[('x', '<i4'), ('y', '<i4')])\n",
      "    \n",
      "    >>> np.argsort(x, order=('x','y'))\n",
      "    array([1, 0])\n",
      "    \n",
      "    >>> np.argsort(x, order=('y','x'))\n",
      "    array([0, 1])\n",
      "\n"
     ]
    }
   ],
   "source": [
    "help(np.argsort)"
   ]
  },
  {
   "cell_type": "code",
   "execution_count": null,
   "id": "924e63bf-bf28-4603-8282-942d4c6ba7e6",
   "metadata": {},
   "outputs": [],
   "source": []
  },
  {
   "cell_type": "code",
   "execution_count": null,
   "id": "2faed539-3f84-4f6c-b6cc-051d580ba4c7",
   "metadata": {},
   "outputs": [],
   "source": [
    "#### 18. Create a random 5*3 matrix and replace items that are larger than 4 by their squares ( Example:  6 --> 36) \n",
    "#`hint: np.where`\n"
   ]
  },
  {
   "cell_type": "code",
   "execution_count": 196,
   "id": "10705acb-f3fa-4c1f-a9f3-81907864a3d1",
   "metadata": {},
   "outputs": [
    {
     "data": {
      "text/plain": [
       "array([[0.42384143, 0.99211479, 0.03654048],\n",
       "       [0.50003036, 0.5352563 , 0.97179834],\n",
       "       [0.23421692, 0.6320354 , 0.65059473],\n",
       "       [0.68674167, 0.97184122, 0.18121072],\n",
       "       [0.52538294, 0.14925341, 0.66717992]])"
      ]
     },
     "execution_count": 196,
     "metadata": {},
     "output_type": "execute_result"
    }
   ],
   "source": [
    "matrix_5 = np.random.random((5,3))\n",
    "matrix_5"
   ]
  },
  {
   "cell_type": "code",
   "execution_count": 193,
   "id": "9736d0b8-02ba-4789-b2c4-d3e73364af5f",
   "metadata": {},
   "outputs": [
    {
     "data": {
      "text/plain": [
       "(array([], dtype=int64), array([], dtype=int64))"
      ]
     },
     "execution_count": 193,
     "metadata": {},
     "output_type": "execute_result"
    }
   ],
   "source": [
    "np.where(matrix_5> 4)"
   ]
  },
  {
   "cell_type": "code",
   "execution_count": 186,
   "id": "bc1e98b0-6999-489a-a77a-c1b1d4d19c6a",
   "metadata": {},
   "outputs": [
    {
     "ename": "IndexError",
     "evalue": "index 3 is out of bounds for axis 1 with size 3",
     "output_type": "error",
     "traceback": [
      "\u001b[1;31m---------------------------------------------------------------------------\u001b[0m",
      "\u001b[1;31mIndexError\u001b[0m                                Traceback (most recent call last)",
      "Cell \u001b[1;32mIn[186], line 3\u001b[0m\n\u001b[0;32m      1\u001b[0m \u001b[38;5;28;01mfor\u001b[39;00m i \u001b[38;5;129;01min\u001b[39;00m  matrix_5[\u001b[38;5;241m0\u001b[39m]\u001b[38;5;241m.\u001b[39mshape :\n\u001b[0;32m      2\u001b[0m     \u001b[38;5;28;01mfor\u001b[39;00m j \u001b[38;5;129;01min\u001b[39;00m  matrix_5[\u001b[38;5;241m1\u001b[39m]\u001b[38;5;241m.\u001b[39mshape:  \n\u001b[1;32m----> 3\u001b[0m         \u001b[38;5;28;01mif\u001b[39;00m matrix_5[i,j] \u001b[38;5;129;01min\u001b[39;00m np\u001b[38;5;241m.\u001b[39mwhere(matrix_5\u001b[38;5;241m>\u001b[39m \u001b[38;5;241m4\u001b[39m):\n\u001b[0;32m      4\u001b[0m             matrix_5[i,j]\u001b[38;5;241m=\u001b[39m   matrix_5[i,j]\u001b[38;5;241m*\u001b[39m  matrix_5[i,j]\n",
      "\u001b[1;31mIndexError\u001b[0m: index 3 is out of bounds for axis 1 with size 3"
     ]
    }
   ],
   "source": [
    "for i in  matrix_5[0].shape :\n",
    "    for j in  matrix_5[1].shape:  \n",
    "        if matrix_5[i,j] in np.where(matrix_5> 4):\n",
    "            matrix_5[i,j]=   matrix_5[i,j]*  matrix_5[i,j]\n",
    "        "
   ]
  },
  {
   "cell_type": "code",
   "execution_count": 199,
   "id": "e4d54c7d-e7f7-4ad5-a066-2719a26bf178",
   "metadata": {},
   "outputs": [],
   "source": [
    "matrix_5[matrix_5 > 4] **= 2"
   ]
  },
  {
   "cell_type": "code",
   "execution_count": 200,
   "id": "e517cdb3-e780-4186-9e9c-e4ed1b703e3f",
   "metadata": {},
   "outputs": [
    {
     "data": {
      "text/plain": [
       "array([[0.42384143, 0.99211479, 0.03654048],\n",
       "       [0.50003036, 0.5352563 , 0.97179834],\n",
       "       [0.23421692, 0.6320354 , 0.65059473],\n",
       "       [0.68674167, 0.97184122, 0.18121072],\n",
       "       [0.52538294, 0.14925341, 0.66717992]])"
      ]
     },
     "execution_count": 200,
     "metadata": {},
     "output_type": "execute_result"
    }
   ],
   "source": [
    "matrix_5"
   ]
  },
  {
   "cell_type": "code",
   "execution_count": 238,
   "id": "b91bd46f-4c7d-4bc9-bf56-5cfbd84811db",
   "metadata": {},
   "outputs": [
    {
     "data": {
      "text/plain": [
       "array([[ 3,  4,  5],\n",
       "       [ 9, 10, 11],\n",
       "       [12, 13, 14],\n",
       "       [ 0,  1,  2],\n",
       "       [ 6,  7,  8]])"
      ]
     },
     "execution_count": 238,
     "metadata": {},
     "output_type": "execute_result"
    }
   ],
   "source": [
    "m = np.arange(15).reshape(5,3)\n",
    "np.random.shuffle(m)\n",
    "m"
   ]
  },
  {
   "cell_type": "code",
   "execution_count": 239,
   "id": "fe597296-4a52-4f00-a5f8-1000425d5c86",
   "metadata": {},
   "outputs": [],
   "source": [
    "m[m > 4] **= 2"
   ]
  },
  {
   "cell_type": "code",
   "execution_count": 240,
   "id": "d62e82e1-0891-46cc-9472-11a934cfde1d",
   "metadata": {},
   "outputs": [
    {
     "data": {
      "text/plain": [
       "array([[  3,   4,  25],\n",
       "       [ 81, 100, 121],\n",
       "       [144, 169, 196],\n",
       "       [  0,   1,   2],\n",
       "       [ 36,  49,  64]])"
      ]
     },
     "execution_count": 240,
     "metadata": {},
     "output_type": "execute_result"
    }
   ],
   "source": [
    "m"
   ]
  },
  {
   "cell_type": "code",
   "execution_count": null,
   "id": "4a707ae5-3917-427d-99b4-1cb94afeb18e",
   "metadata": {},
   "outputs": [],
   "source": []
  }
 ],
 "metadata": {
  "kernelspec": {
   "display_name": "Python 3 (ipykernel)",
   "language": "python",
   "name": "python3"
  },
  "language_info": {
   "codemirror_mode": {
    "name": "ipython",
    "version": 3
   },
   "file_extension": ".py",
   "mimetype": "text/x-python",
   "name": "python",
   "nbconvert_exporter": "python",
   "pygments_lexer": "ipython3",
   "version": "3.11.7"
  }
 },
 "nbformat": 4,
 "nbformat_minor": 5
}
